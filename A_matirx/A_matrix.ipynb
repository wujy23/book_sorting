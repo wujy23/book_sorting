{
 "cells": [
  {
   "cell_type": "code",
   "execution_count": 27,
   "metadata": {},
   "outputs": [
    {
     "name": "stderr",
     "output_type": "stream",
     "text": [
      "C:\\Users\\30830\\AppData\\Local\\Temp\\ipykernel_27700\\1211324216.py:4: DtypeWarning: Columns (19,20,21,22,23,24,25,26,27,28,29,30,31,32,33,34,35,36,37,38,39,40,41,42,43,44,45,46,47,48) have mixed types. Specify dtype option on import or set low_memory=False.\n",
      "  orders = pd.read_csv('orders.csv', header=None)\n"
     ]
    }
   ],
   "source": [
    "import numpy as np\n",
    "import pandas as  pd\n",
    "\n",
    "orders = pd.read_csv('orders.csv', header=None)\n",
    "\n",
    "orders = orders.apply(lambda x: x.dropna().tolist(), axis=1)\n",
    "\n",
    "orders = orders.to_list()\n"
   ]
  },
  {
   "cell_type": "code",
   "execution_count": 29,
   "metadata": {},
   "outputs": [],
   "source": [
    "with open('SKU.txt', 'r',encoding='GBK') as f:\n",
    "    lines = f.readlines()\n",
    "    lines = [line.strip() for line in lines] #set() 将列表转换为集合，消除重复值 #line.strip() 消除字符串前后的空格"
   ]
  },
  {
   "cell_type": "code",
   "execution_count": 30,
   "metadata": {},
   "outputs": [],
   "source": [
    "order_del = []#需删除订单集合\n",
    "for i  in range(len(orders)):\n",
    "    order = orders[i] #取当前处理的订单，order数据类型为list\n",
    "  \n",
    "    flag  = 0 #输出标识符，表订单中需处理订单的数量\n",
    "    cur_del = [] #当前订单中的无效部分集合\n",
    "    \n",
    "    for j in range(len(order)):\n",
    "        if order[j] in lines:\n",
    "            flag += 1  #只要订单出现过两本以上需求书籍，为有效订单\n",
    "        else :\n",
    "            cur_del.append(order[j])\n",
    "             \n",
    "    if flag < 2: #无效订单，计入需删除集合\n",
    "        order_del.append(orders[i])\n",
    "    else: #有效订单，删除订单中的无效部分\n",
    "        for k in range(len(cur_del)):\n",
    "            order.remove(cur_del[k])   \n",
    "        \n",
    "        orders[i] = order   "
   ]
  },
  {
   "cell_type": "code",
   "execution_count": 31,
   "metadata": {},
   "outputs": [],
   "source": [
    "for i in range(len(order_del)):#删除无效订单\n",
    "    orders.remove(order_del[i])"
   ]
  },
  {
   "cell_type": "code",
   "execution_count": 33,
   "metadata": {},
   "outputs": [],
   "source": [
    "orders = np.array(orders) \n",
    "length = len(lines) #矩阵规模\n",
    "A_matrix = np.zeros((length,length)) #构造空矩阵\n",
    "id = {}\n",
    "\n",
    "for i in range(length):\n",
    "    id[lines[i]] = i\n"
   ]
  },
  {
   "cell_type": "code",
   "execution_count": 35,
   "metadata": {},
   "outputs": [],
   "source": [
    "for i in range(len(orders)):\n",
    "    cur = orders[i]\n",
    "    for j in range(len(cur)):\n",
    "        cur_row = id[cur[j]]\n",
    "        for k in range(len(cur)):\n",
    "            if(k != j):\n",
    "                A_matrix[cur_row][id[cur[k]]] += 1\n"
   ]
  },
  {
   "cell_type": "code",
   "execution_count": 37,
   "metadata": {},
   "outputs": [],
   "source": [
    "output = pd.DataFrame(A_matrix)\n",
    "output.to_csv('A_matrix.csv')"
   ]
  }
 ],
 "metadata": {
  "kernelspec": {
   "display_name": "base",
   "language": "python",
   "name": "python3"
  },
  "language_info": {
   "codemirror_mode": {
    "name": "ipython",
    "version": 3
   },
   "file_extension": ".py",
   "mimetype": "text/x-python",
   "name": "python",
   "nbconvert_exporter": "python",
   "pygments_lexer": "ipython3",
   "version": "3.10.9"
  },
  "orig_nbformat": 4
 },
 "nbformat": 4,
 "nbformat_minor": 2
}
